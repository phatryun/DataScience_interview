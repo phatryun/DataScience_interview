{
 "metadata": {
  "name": "",
  "signature": "sha256:9cfcf193922f76bba124cfd3a34670916ef6537c694022f8b39a015db595ff69"
 },
 "nbformat": 3,
 "nbformat_minor": 0,
 "worksheets": [
  {
   "cells": [
    {
     "cell_type": "heading",
     "level": 1,
     "metadata": {},
     "source": [
      "Modelizing and Predicting people income with Machine Learning algorithms\n"
     ]
    },
    {
     "cell_type": "markdown",
     "metadata": {},
     "source": [
      "he following link lets you download an archive containing an \u201cexercise\u201d US Census dataset:\n",
      "http://thomasdata.s3.amazonaws.com/ds/us_census_full.zip\n",
      " \n",
      "This US Census dataset contains detailed but anonymised information for approximately 300,000 people.\n",
      " \n",
      "\n",
      "The archive contains 3 files:\n",
      "\n",
      "o   A large learning .csv file\n",
      "\n",
      "o   Another test .csv file\n",
      "\n",
      "o   A metadata file describing the columns of the two above mentioned files (identical for both)\n",
      " \n",
      "\n",
      "The goal of this exercise is to \u201cmodelize\u201d / \u201cpredict\u201d the information contained in the last column (42nd), i.e., which people save more or less than $50,000 / year, from the information contained in the other columns.\n",
      "The exercise here consists of modelizing a binary variable.\n",
      " \n",
      "\n",
      "Ideally, you\u2019ll work with R or Python to carry out the following steps:\n",
      "\n",
      "o   Import the learning and text files\n",
      "\n",
      "o   Based on the learning file:\n",
      "\n",
      "o   Make a quick statistic based and univariate audit of the different columns\u2019 content and produce the results in visual / graphic format.\n",
      "\n",
      "o   This audit should describe the variable distribution, the % of missing values, the extreme values, and so on.\n",
      "\n",
      "o   Create a model using these variables (you can use whichever variables you want, or even create you own; for example, you could find the ratio or relationship between different variables, the binarisation of \u201ccategorical\u201d variables, etc.) to modelize wining more or less than $50,000 / year. Here, the idea would be for you to test one or two algorithms, type regression logistics, or a decision tree. But, you are free to choose others if you\u2019d rather.\n",
      "\n",
      "o   Choose the model that appears to have the highest performance based on a comparison between reality (the 42nd variable) and the model\u2019s prediction.\n",
      "\n",
      "o   Apply your model to the test file and measure it\u2019s real performance on it (same method as above).\n",
      " \n",
      "\n",
      "The goal of this exercise is not to create the best or the purest model, but rather to describe the steps you\u2019ll take to accomplish it.\n",
      " \n",
      "\n",
      "Explain the places that may have been the most challenging for you.\n",
      " \n",
      "\n",
      "Find clear insights on the profiles of the people that make more than $50,000 / year. For example, which variables seem to be the most correlated with this phenomenon?\n",
      " \n",
      "\n",
      "Ideally, you\u2019ll push your code on GitHub to share it with me. Otherwise, emails will suffice.\n",
      " \n",
      "\n",
      "Once again, the goal of this exercise is not to solve this problem, but rather to spend a few hours on it and to thoroughly explain your approach."
     ]
    },
    {
     "cell_type": "code",
     "collapsed": false,
     "input": [
      "#Some import\n",
      "import pandas as pd\n",
      "import numpy as np\n",
      "import scipy as sp\n",
      "\n",
      "import time\n",
      "\n",
      "\n",
      "import matplotlib.pyplot as plt\n",
      "from patsy import dmatrices\n",
      "import statsmodels.api as sm\n",
      "\n",
      "import StringIO, pydot\n",
      "\n",
      "import pylab\n",
      "from IPython.display import Image\n",
      "\n",
      "from sklearn.tree import DecisionTreeClassifier\n",
      "from sklearn.tree import export_graphviz\n",
      "from sklearn.linear_model import LinearRegression\n",
      "from sklearn import svm\n",
      "from sklearn.ensemble import RandomForestRegressor\n",
      "from sklearn.metrics import mean_squared_error\n",
      "from sklearn import neighbors\n",
      "from sklearn.cross_validation import train_test_split\n",
      "from sklearn.cross_validation import KFold\n",
      "from sklearn.metrics import confusion_matrix\n",
      "from sklearn.metrics import accuracy_score\n"
     ],
     "language": "python",
     "metadata": {},
     "outputs": [],
     "prompt_number": 3
    },
    {
     "cell_type": "markdown",
     "metadata": {},
     "source": [
      "First of all, we notice that our CSV do not contain any header, so we build the names and import the dataset"
     ]
    },
    {
     "cell_type": "code",
     "collapsed": false,
     "input": [
      "col_name = [\"AAGE\", \"ACLSWKR\", \"ADTIND\", \"ADTOCC\", \"AHGA\", \"AHRSPAY\",\n",
      "            \"AHSCOL\", \"AMARITL\", \"AMJIND\", \"AMJOCC\", \"ARACE\", \"AREORGN\",\n",
      "            \"ASEX\", \"AUNMEM\", \"AUNTYPE\", \"AWKSTAT\", \"CAPGAIN\", \"CAPLOSS\",\n",
      "            \"DIVVAL\", \"FILESTAT\", \"GRINREG\", \"GRINST\", \"HHDFMX\",\n",
      "            \"HHDREL\", \"MARSUPWT\", \"MIGMTR1\", \"MIGMTR3\", \"MIGMTR4\", \"MIGSAME\",\n",
      "            \"MIGSUN\", \"NOEMP\", \"PARENT\", \"PEFNTVTY\", \"PEMNTVTY\",\n",
      "            \"PENATVTY\", \"PRCITSHP\", \"SEOTR\", \"VETQVA\",\n",
      "            \"VETYN\", \"WKSWORK\", \"YEAR\", \"Income\"]\n",
      "\n",
      "income_df = pd.read_csv(\"data/learn.csv\",header=None, names=col_name)\n",
      "print len(income_df)\n",
      "print \"\\nSample data:\"\n",
      "income_df.head(10)\n"
     ],
     "language": "python",
     "metadata": {},
     "outputs": [
      {
       "output_type": "stream",
       "stream": "stdout",
       "text": [
        "199523\n",
        "\n",
        "Sample data:\n"
       ]
      },
      {
       "html": [
        "<div style=\"max-height:1000px;max-width:1500px;overflow:auto;\">\n",
        "<table border=\"1\" class=\"dataframe\">\n",
        "  <thead>\n",
        "    <tr style=\"text-align: right;\">\n",
        "      <th></th>\n",
        "      <th>AAGE</th>\n",
        "      <th>ACLSWKR</th>\n",
        "      <th>ADTIND</th>\n",
        "      <th>ADTOCC</th>\n",
        "      <th>AHGA</th>\n",
        "      <th>AHRSPAY</th>\n",
        "      <th>AHSCOL</th>\n",
        "      <th>AMARITL</th>\n",
        "      <th>AMJIND</th>\n",
        "      <th>AMJOCC</th>\n",
        "      <th>...</th>\n",
        "      <th>PEFNTVTY</th>\n",
        "      <th>PEMNTVTY</th>\n",
        "      <th>PENATVTY</th>\n",
        "      <th>PRCITSHP</th>\n",
        "      <th>SEOTR</th>\n",
        "      <th>VETQVA</th>\n",
        "      <th>VETYN</th>\n",
        "      <th>WKSWORK</th>\n",
        "      <th>YEAR</th>\n",
        "      <th>Income</th>\n",
        "    </tr>\n",
        "  </thead>\n",
        "  <tbody>\n",
        "    <tr>\n",
        "      <th>0</th>\n",
        "      <td> 73</td>\n",
        "      <td>                 Not in universe</td>\n",
        "      <td>  0</td>\n",
        "      <td>  0</td>\n",
        "      <td>        High school graduate</td>\n",
        "      <td>    0</td>\n",
        "      <td>  Not in universe</td>\n",
        "      <td>                          Widowed</td>\n",
        "      <td>        Not in universe or children</td>\n",
        "      <td>                        Not in universe</td>\n",
        "      <td>...</td>\n",
        "      <td>  United-States</td>\n",
        "      <td>  United-States</td>\n",
        "      <td>  United-States</td>\n",
        "      <td>    Native- Born in the United States</td>\n",
        "      <td> 0</td>\n",
        "      <td>  Not in universe</td>\n",
        "      <td> 2</td>\n",
        "      <td>  0</td>\n",
        "      <td> 95</td>\n",
        "      <td>  - 50000.</td>\n",
        "    </tr>\n",
        "    <tr>\n",
        "      <th>1</th>\n",
        "      <td> 58</td>\n",
        "      <td>  Self-employed-not incorporated</td>\n",
        "      <td>  4</td>\n",
        "      <td> 34</td>\n",
        "      <td>  Some college but no degree</td>\n",
        "      <td>    0</td>\n",
        "      <td>  Not in universe</td>\n",
        "      <td>                         Divorced</td>\n",
        "      <td>                       Construction</td>\n",
        "      <td>    Precision production craft &amp; repair</td>\n",
        "      <td>...</td>\n",
        "      <td>  United-States</td>\n",
        "      <td>  United-States</td>\n",
        "      <td>  United-States</td>\n",
        "      <td>    Native- Born in the United States</td>\n",
        "      <td> 0</td>\n",
        "      <td>  Not in universe</td>\n",
        "      <td> 2</td>\n",
        "      <td> 52</td>\n",
        "      <td> 94</td>\n",
        "      <td>  - 50000.</td>\n",
        "    </tr>\n",
        "    <tr>\n",
        "      <th>2</th>\n",
        "      <td> 18</td>\n",
        "      <td>                 Not in universe</td>\n",
        "      <td>  0</td>\n",
        "      <td>  0</td>\n",
        "      <td>                  10th grade</td>\n",
        "      <td>    0</td>\n",
        "      <td>      High school</td>\n",
        "      <td>                    Never married</td>\n",
        "      <td>        Not in universe or children</td>\n",
        "      <td>                        Not in universe</td>\n",
        "      <td>...</td>\n",
        "      <td>        Vietnam</td>\n",
        "      <td>        Vietnam</td>\n",
        "      <td>        Vietnam</td>\n",
        "      <td>  Foreign born- Not a citizen of U S </td>\n",
        "      <td> 0</td>\n",
        "      <td>  Not in universe</td>\n",
        "      <td> 2</td>\n",
        "      <td>  0</td>\n",
        "      <td> 95</td>\n",
        "      <td>  - 50000.</td>\n",
        "    </tr>\n",
        "    <tr>\n",
        "      <th>3</th>\n",
        "      <td>  9</td>\n",
        "      <td>                 Not in universe</td>\n",
        "      <td>  0</td>\n",
        "      <td>  0</td>\n",
        "      <td>                    Children</td>\n",
        "      <td>    0</td>\n",
        "      <td>  Not in universe</td>\n",
        "      <td>                    Never married</td>\n",
        "      <td>        Not in universe or children</td>\n",
        "      <td>                        Not in universe</td>\n",
        "      <td>...</td>\n",
        "      <td>  United-States</td>\n",
        "      <td>  United-States</td>\n",
        "      <td>  United-States</td>\n",
        "      <td>    Native- Born in the United States</td>\n",
        "      <td> 0</td>\n",
        "      <td>  Not in universe</td>\n",
        "      <td> 0</td>\n",
        "      <td>  0</td>\n",
        "      <td> 94</td>\n",
        "      <td>  - 50000.</td>\n",
        "    </tr>\n",
        "    <tr>\n",
        "      <th>4</th>\n",
        "      <td> 10</td>\n",
        "      <td>                 Not in universe</td>\n",
        "      <td>  0</td>\n",
        "      <td>  0</td>\n",
        "      <td>                    Children</td>\n",
        "      <td>    0</td>\n",
        "      <td>  Not in universe</td>\n",
        "      <td>                    Never married</td>\n",
        "      <td>        Not in universe or children</td>\n",
        "      <td>                        Not in universe</td>\n",
        "      <td>...</td>\n",
        "      <td>  United-States</td>\n",
        "      <td>  United-States</td>\n",
        "      <td>  United-States</td>\n",
        "      <td>    Native- Born in the United States</td>\n",
        "      <td> 0</td>\n",
        "      <td>  Not in universe</td>\n",
        "      <td> 0</td>\n",
        "      <td>  0</td>\n",
        "      <td> 94</td>\n",
        "      <td>  - 50000.</td>\n",
        "    </tr>\n",
        "    <tr>\n",
        "      <th>5</th>\n",
        "      <td> 48</td>\n",
        "      <td>                         Private</td>\n",
        "      <td> 40</td>\n",
        "      <td> 10</td>\n",
        "      <td>  Some college but no degree</td>\n",
        "      <td> 1200</td>\n",
        "      <td>  Not in universe</td>\n",
        "      <td>  Married-civilian spouse present</td>\n",
        "      <td>                      Entertainment</td>\n",
        "      <td>                 Professional specialty</td>\n",
        "      <td>...</td>\n",
        "      <td>    Philippines</td>\n",
        "      <td>  United-States</td>\n",
        "      <td>  United-States</td>\n",
        "      <td>    Native- Born in the United States</td>\n",
        "      <td> 2</td>\n",
        "      <td>  Not in universe</td>\n",
        "      <td> 2</td>\n",
        "      <td> 52</td>\n",
        "      <td> 95</td>\n",
        "      <td>  - 50000.</td>\n",
        "    </tr>\n",
        "    <tr>\n",
        "      <th>6</th>\n",
        "      <td> 42</td>\n",
        "      <td>                         Private</td>\n",
        "      <td> 34</td>\n",
        "      <td>  3</td>\n",
        "      <td>  Bachelors degree(BA AB BS)</td>\n",
        "      <td>    0</td>\n",
        "      <td>  Not in universe</td>\n",
        "      <td>  Married-civilian spouse present</td>\n",
        "      <td>  Finance insurance and real estate</td>\n",
        "      <td>         Executive admin and managerial</td>\n",
        "      <td>...</td>\n",
        "      <td>  United-States</td>\n",
        "      <td>  United-States</td>\n",
        "      <td>  United-States</td>\n",
        "      <td>    Native- Born in the United States</td>\n",
        "      <td> 0</td>\n",
        "      <td>  Not in universe</td>\n",
        "      <td> 2</td>\n",
        "      <td> 52</td>\n",
        "      <td> 94</td>\n",
        "      <td>  - 50000.</td>\n",
        "    </tr>\n",
        "    <tr>\n",
        "      <th>7</th>\n",
        "      <td> 28</td>\n",
        "      <td>                         Private</td>\n",
        "      <td>  4</td>\n",
        "      <td> 40</td>\n",
        "      <td>        High school graduate</td>\n",
        "      <td>    0</td>\n",
        "      <td>  Not in universe</td>\n",
        "      <td>                    Never married</td>\n",
        "      <td>                       Construction</td>\n",
        "      <td>           Handlers equip cleaners etc </td>\n",
        "      <td>...</td>\n",
        "      <td>  United-States</td>\n",
        "      <td>  United-States</td>\n",
        "      <td>  United-States</td>\n",
        "      <td>    Native- Born in the United States</td>\n",
        "      <td> 0</td>\n",
        "      <td>  Not in universe</td>\n",
        "      <td> 2</td>\n",
        "      <td> 30</td>\n",
        "      <td> 95</td>\n",
        "      <td>  - 50000.</td>\n",
        "    </tr>\n",
        "    <tr>\n",
        "      <th>8</th>\n",
        "      <td> 47</td>\n",
        "      <td>                Local government</td>\n",
        "      <td> 43</td>\n",
        "      <td> 26</td>\n",
        "      <td>  Some college but no degree</td>\n",
        "      <td>  876</td>\n",
        "      <td>  Not in universe</td>\n",
        "      <td>  Married-civilian spouse present</td>\n",
        "      <td>                          Education</td>\n",
        "      <td>         Adm support including clerical</td>\n",
        "      <td>...</td>\n",
        "      <td>  United-States</td>\n",
        "      <td>  United-States</td>\n",
        "      <td>  United-States</td>\n",
        "      <td>    Native- Born in the United States</td>\n",
        "      <td> 0</td>\n",
        "      <td>  Not in universe</td>\n",
        "      <td> 2</td>\n",
        "      <td> 52</td>\n",
        "      <td> 95</td>\n",
        "      <td>  - 50000.</td>\n",
        "    </tr>\n",
        "    <tr>\n",
        "      <th>9</th>\n",
        "      <td> 34</td>\n",
        "      <td>                         Private</td>\n",
        "      <td>  4</td>\n",
        "      <td> 37</td>\n",
        "      <td>  Some college but no degree</td>\n",
        "      <td>    0</td>\n",
        "      <td>  Not in universe</td>\n",
        "      <td>  Married-civilian spouse present</td>\n",
        "      <td>                       Construction</td>\n",
        "      <td>  Machine operators assmblrs &amp; inspctrs</td>\n",
        "      <td>...</td>\n",
        "      <td>  United-States</td>\n",
        "      <td>  United-States</td>\n",
        "      <td>  United-States</td>\n",
        "      <td>    Native- Born in the United States</td>\n",
        "      <td> 0</td>\n",
        "      <td>  Not in universe</td>\n",
        "      <td> 2</td>\n",
        "      <td> 52</td>\n",
        "      <td> 94</td>\n",
        "      <td>  - 50000.</td>\n",
        "    </tr>\n",
        "  </tbody>\n",
        "</table>\n",
        "<p>10 rows \u00d7 42 columns</p>\n",
        "</div>"
       ],
       "metadata": {},
       "output_type": "pyout",
       "prompt_number": 4,
       "text": [
        "   AAGE                          ACLSWKR  ADTIND  ADTOCC  \\\n",
        "0    73                  Not in universe       0       0   \n",
        "1    58   Self-employed-not incorporated       4      34   \n",
        "2    18                  Not in universe       0       0   \n",
        "3     9                  Not in universe       0       0   \n",
        "4    10                  Not in universe       0       0   \n",
        "5    48                          Private      40      10   \n",
        "6    42                          Private      34       3   \n",
        "7    28                          Private       4      40   \n",
        "8    47                 Local government      43      26   \n",
        "9    34                          Private       4      37   \n",
        "\n",
        "                          AHGA  AHRSPAY            AHSCOL  \\\n",
        "0         High school graduate        0   Not in universe   \n",
        "1   Some college but no degree        0   Not in universe   \n",
        "2                   10th grade        0       High school   \n",
        "3                     Children        0   Not in universe   \n",
        "4                     Children        0   Not in universe   \n",
        "5   Some college but no degree     1200   Not in universe   \n",
        "6   Bachelors degree(BA AB BS)        0   Not in universe   \n",
        "7         High school graduate        0   Not in universe   \n",
        "8   Some college but no degree      876   Not in universe   \n",
        "9   Some college but no degree        0   Not in universe   \n",
        "\n",
        "                            AMARITL                              AMJIND  \\\n",
        "0                           Widowed         Not in universe or children   \n",
        "1                          Divorced                        Construction   \n",
        "2                     Never married         Not in universe or children   \n",
        "3                     Never married         Not in universe or children   \n",
        "4                     Never married         Not in universe or children   \n",
        "5   Married-civilian spouse present                       Entertainment   \n",
        "6   Married-civilian spouse present   Finance insurance and real estate   \n",
        "7                     Never married                        Construction   \n",
        "8   Married-civilian spouse present                           Education   \n",
        "9   Married-civilian spouse present                        Construction   \n",
        "\n",
        "                                   AMJOCC  \\\n",
        "0                         Not in universe   \n",
        "1     Precision production craft & repair   \n",
        "2                         Not in universe   \n",
        "3                         Not in universe   \n",
        "4                         Not in universe   \n",
        "5                  Professional specialty   \n",
        "6          Executive admin and managerial   \n",
        "7            Handlers equip cleaners etc    \n",
        "8          Adm support including clerical   \n",
        "9   Machine operators assmblrs & inspctrs   \n",
        "\n",
        "                    ...                          PEFNTVTY        PEMNTVTY  \\\n",
        "0                   ...                     United-States   United-States   \n",
        "1                   ...                     United-States   United-States   \n",
        "2                   ...                           Vietnam         Vietnam   \n",
        "3                   ...                     United-States   United-States   \n",
        "4                   ...                     United-States   United-States   \n",
        "5                   ...                       Philippines   United-States   \n",
        "6                   ...                     United-States   United-States   \n",
        "7                   ...                     United-States   United-States   \n",
        "8                   ...                     United-States   United-States   \n",
        "9                   ...                     United-States   United-States   \n",
        "\n",
        "         PENATVTY                              PRCITSHP SEOTR  \\\n",
        "0   United-States     Native- Born in the United States     0   \n",
        "1   United-States     Native- Born in the United States     0   \n",
        "2         Vietnam   Foreign born- Not a citizen of U S      0   \n",
        "3   United-States     Native- Born in the United States     0   \n",
        "4   United-States     Native- Born in the United States     0   \n",
        "5   United-States     Native- Born in the United States     2   \n",
        "6   United-States     Native- Born in the United States     0   \n",
        "7   United-States     Native- Born in the United States     0   \n",
        "8   United-States     Native- Born in the United States     0   \n",
        "9   United-States     Native- Born in the United States     0   \n",
        "\n",
        "             VETQVA  VETYN  WKSWORK  YEAR     Income  \n",
        "0   Not in universe      2        0    95   - 50000.  \n",
        "1   Not in universe      2       52    94   - 50000.  \n",
        "2   Not in universe      2        0    95   - 50000.  \n",
        "3   Not in universe      0        0    94   - 50000.  \n",
        "4   Not in universe      0        0    94   - 50000.  \n",
        "5   Not in universe      2       52    95   - 50000.  \n",
        "6   Not in universe      2       52    94   - 50000.  \n",
        "7   Not in universe      2       30    95   - 50000.  \n",
        "8   Not in universe      2       52    95   - 50000.  \n",
        "9   Not in universe      2       52    94   - 50000.  \n",
        "\n",
        "[10 rows x 42 columns]"
       ]
      }
     ],
     "prompt_number": 4
    },
    {
     "cell_type": "heading",
     "level": 2,
     "metadata": {},
     "source": [
      "Statistical Audit and Cleanning Dataset"
     ]
    },
    {
     "cell_type": "markdown",
     "metadata": {},
     "source": [
      "\n",
      "On va regarder rapidemenet les diff\u00e9rentes distributions des features"
     ]
    },
    {
     "cell_type": "code",
     "collapsed": false,
     "input": [
      "# specifies the parameters of our graphs\n",
      "fig = plt.figure(figsize=(18,6), dpi=1600) \n",
      "alpha=alpha_scatterplot = 0.2 \n",
      "alpha_bar_chart = 0.55\n",
      "\n",
      "# lets us plot many diffrent shaped graphs together \n",
      "\n",
      "ax1 = plt.subplot2grid((1,4),(0,0))\n",
      "# plots a bar graph of those earn more or less than 50 000.               \n",
      "income_df.Income.value_counts().plot(kind='bar', alpha=alpha_bar_chart)\n",
      "# this nicely sets the margins in matplotlib to deal with a recent bug 1.3.1\n",
      "ax1.set_xlim(-1, 2)\n",
      "# puts a title on our graph\n",
      "plt.title(\"Distribution of incomes\")\n",
      "\n",
      "\n",
      "plt.subplot2grid((1,4),(0,1), colspan=2)\n",
      "# plots a kernel desnsity estimate of the subset of the income's age\n",
      "income_df.AAGE[income_df.Income == \" - 50000.\"].plot(kind='kde')    \n",
      "income_df.AAGE[income_df.Income == \" 50000+.\"].plot(kind='kde')\n",
      "# plots an axis lable\n",
      "plt.xlabel(\"Age\")    \n",
      "plt.title(\"Age Distribution within classes of income\")\n",
      "# sets our legend for our graph.\n",
      "plt.legend((' - 50000.', '50000+.'),loc='best') \n",
      "\n",
      "#Sex\n",
      "ax2 = plt.subplot2grid((1,4),(0,3))\n",
      "income_df.ASEX.value_counts().plot(kind=\"bar\", alpha=alpha_bar_chart)\n",
      "ax2.set_xlim(-1, len(income_df.ASEX.value_counts()))\n",
      "plt.title(\"sex repartition\")\n"
     ],
     "language": "python",
     "metadata": {},
     "outputs": [
      {
       "metadata": {},
       "output_type": "pyout",
       "prompt_number": 3,
       "text": [
        "<matplotlib.text.Text at 0x7fbc6b316090>"
       ]
      },
      {
       "metadata": {},
       "output_type": "display_data",
       "png": "[encoded data removed]",
       "text": [
        "<matplotlib.figure.Figure at 0x7fbc6b5025d0>"
       ]
      }
     ],
     "prompt_number": 3
    },
    {
     "cell_type": "code",
     "collapsed": false,
     "input": [
      "# specifies the parameters of our graphs\n",
      "fig = plt.figure(figsize=(18,6), dpi=1600) \n",
      "alpha=alpha_scatterplot = 0.2 \n",
      "alpha_bar_chart = 0.55\n",
      "\n",
      "\n",
      "ax1 = plt.subplot2grid((1,3),(0,0))\n",
      "income_df.MIGMTR1.value_counts().plot(kind='bar', alpha=alpha_bar_chart)\n",
      "ax1.set_xlim(-1, len(income_df.MIGMTR1.value_counts()))\n",
      "plt.title(\"MIGMTR1 : migration code-change in msa\")\n",
      "\n",
      "\n",
      "ax2 = plt.subplot2grid((1,3),(0,1))\n",
      "income_df.ACLSWKR.value_counts().plot(kind='bar', alpha=alpha_bar_chart)\n",
      "ax2.set_xlim(-1, len(income_df.ACLSWKR.value_counts()))\n",
      "# specifies the parameters of our graphs\n",
      "plt.title(\"ACLSWKR : class of worker\")\n",
      "\n",
      "ax3 = plt.subplot2grid((1,3),(0,2))\n",
      "income_df.AHGA.value_counts().plot(kind=\"bar\", alpha=alpha_bar_chart)\n",
      "ax3.set_xlim(-1, len(income_df.AHGA.value_counts()))\n",
      "plt.title(\"AHGA : education\")\n",
      "\n",
      "\n"
     ],
     "language": "python",
     "metadata": {},
     "outputs": [
      {
       "metadata": {},
       "output_type": "pyout",
       "prompt_number": 4,
       "text": [
        "<matplotlib.text.Text at 0x7fbc6b0584d0>"
       ]
      },
      {
       "metadata": {},
       "output_type": "display_data",
       "png": "[encoded data removed]",
       "text": [
        "<matplotlib.figure.Figure at 0x7fbc6b442d10>"
       ]
      }
     ],
     "prompt_number": 4
    },
    {
     "cell_type": "markdown",
     "metadata": {},
     "source": [
      "\n"
     ]
    },
    {
     "cell_type": "code",
     "collapsed": false,
     "input": [
      "# specifies the parameters of our graphs\n",
      "fig = plt.figure(figsize=(18,6), dpi=1600) \n",
      "alpha=alpha_scatterplot = 0.2 \n",
      "alpha_bar_chart = 0.55\n",
      "\n",
      "plt.subplot2grid((1,3),(0,0))\n",
      "# plots a kernel desnsity estimate of the subset of the industry code\n",
      "income_df.ADTIND.plot(kind='kde')    \n",
      " # plots an axis lable\n",
      "plt.xlabel(\"ADTIND\")    \n",
      "plt.title(\"ADTIND : industry code\")\n",
      "\n",
      "plt.subplot2grid((1,3),(0,1))\n",
      "# plots a kernel desnsity estimate of the occupation code\n",
      "income_df.ADTOCC.plot(kind='kde')\n",
      " # plots an axis lable\n",
      "plt.xlabel(\"ADTOCC\")    \n",
      "plt.title(\"ADTOCC : occupation code\")\n",
      "\n",
      "plt.subplot2grid((1,3),(0,2))\n",
      "# plots a kernel desnsity estimate of the wage per hour\n",
      "income_df.AHRSPAY.plot(kind='kde')  \n",
      " # plots an axis lable\n",
      "plt.xlabel(\"AHRSPAY\")    \n",
      "plt.title(\"AHRSPAY : wage per hour\")\n",
      "\n",
      "\n",
      "\n"
     ],
     "language": "python",
     "metadata": {},
     "outputs": [
      {
       "metadata": {},
       "output_type": "pyout",
       "prompt_number": 5,
       "text": [
        "<matplotlib.text.Text at 0x7fbc6af3a890>"
       ]
      },
      {
       "metadata": {},
       "output_type": "display_data",
       "png": "[encoded data removed]",
       "text": [
        "<matplotlib.figure.Figure at 0x7fbc6b28b950>"
       ]
      }
     ],
     "prompt_number": 5
    },
    {
     "cell_type": "markdown",
     "metadata": {},
     "source": [
      "For this Statistical audit, we are going to look at every attribut of our data set and try to find if it is not full of univariate like \"0\" or \"Not in universe\"\n",
      " "
     ]
    },
    {
     "cell_type": "code",
     "collapsed": false,
     "input": [
      "#We get the function describe() given by panda\n",
      "#example:\n",
      "#nominative feature\n",
      "print \"ADTIND : \\n\",income_df[\"ADTIND\"].describe()\n",
      "\n",
      "#Descriptive feature\n",
      "print \"\\nAHGA(education) : \\n\",income_df[\"AHGA\"].describe()"
     ],
     "language": "python",
     "metadata": {},
     "outputs": [
      {
       "output_type": "stream",
       "stream": "stdout",
       "text": [
        "ADTIND : \n",
        "count    199523.000000\n",
        "mean         15.352320\n",
        "std          18.067129\n",
        "min           0.000000\n",
        "25%           0.000000\n",
        "50%           0.000000\n",
        "75%          33.000000\n",
        "max          51.000000\n",
        "dtype: float64\n",
        "\n",
        "AHGA(education) : \n",
        "count                    199523\n",
        "unique                       17\n",
        "top        High school graduate\n",
        "freq                      48407\n",
        "dtype: object"
       ]
      },
      {
       "output_type": "stream",
       "stream": "stdout",
       "text": [
        "\n"
       ]
      }
     ],
     "prompt_number": 6
    },
    {
     "cell_type": "code",
     "collapsed": false,
     "input": [
      "dico_stat = dict()\n",
      "list_feature_to_clean = list()\n",
      "list_features_descritive = list()\n",
      "\n",
      "for name in col_name:\n",
      "    describe = income_df[name].describe()\n",
      "    dico_stat[name] = describe\n",
      "    if hasattr(describe, 'top'):\n",
      "        #print name, \" : \", describe['top']\n",
      "        if (\"Not in universe\" in describe.top) or (\"?\" in describe.top) or (\"Nonfiler\" in describe.top) or (\"All other\" in describe.top) :\n",
      "            list_feature_to_clean.append(name)\n",
      "        else:\n",
      "            list_features_descritive.append(name)\n",
      "    elif hasattr(describe, 'mean'):\n",
      "        #print name, \" mean :\", describe['mean'] , \"&&& 75% :\", describe['75%'], \" ==> \", describe['mean']>describe['75%']\n",
      "        if describe['mean'] > describe['75%'] :\n",
      "            list_feature_to_clean.append(name)\n",
      "        \n",
      "    \n",
      "\n",
      "            \n",
      "print \"to clean : \\n\",list_feature_to_clean\n",
      "print \"\\ndescriptive feature : \\n\", list_features_descritive"
     ],
     "language": "python",
     "metadata": {},
     "outputs": [
      {
       "output_type": "stream",
       "stream": "stdout",
       "text": [
        "to clean : \n",
        "['ACLSWKR', 'AHRSPAY', 'AHSCOL', 'AMJIND', 'AMJOCC', 'AREORGN', 'AUNMEM', 'AUNTYPE', 'CAPGAIN', 'CAPLOSS', 'DIVVAL', 'FILESTAT', 'GRINREG', 'GRINST', 'MIGMTR1', 'MIGMTR3', 'MIGMTR4', 'MIGSAME', 'MIGSUN', 'PARENT', 'SEOTR', 'VETQVA']\n",
        "\n",
        "descriptive feature : \n",
        "['AHGA', 'AMARITL', 'ARACE', 'ASEX', 'AWKSTAT', 'HHDFMX', 'HHDREL', 'PEFNTVTY', 'PEMNTVTY', 'PENATVTY', 'PRCITSHP', 'Income']\n"
       ]
      }
     ],
     "prompt_number": 7
    },
    {
     "cell_type": "code",
     "collapsed": false,
     "input": [
      "#We drop all feature that we do not need\n",
      "income_df = income_df.drop(list_feature_to_clean, axis=1)\n",
      "\n",
      "\n",
      "list_features_descritive.remove(\"Income\")\n",
      "\n",
      "#we delete all NaNs values\n",
      "income_df = income_df.dropna()\n",
      "\n",
      "#For deleting duplicates and don't make over learning\n",
      "income_df = income_df.drop_duplicates()\n",
      "\n",
      "#on s'occupe de notre feature class \"Income\"\n",
      "income_result = income_df[\"Income\"]\n",
      "y = np.where(income_result ==\" - 50000.\",1,0)\n",
      "income_df['Income'] = y\n",
      "\n",
      "income_df_copy = income_df\n",
      "\n",
      "#parse to continious\n",
      "for name in list_features_descritive:\n",
      "    income_df[name] = pd.factorize(income_df[name])[0]\n",
      "\n",
      "\n",
      "#income_df = income_df.drop([\"Income\"], axis=1)\n",
      "\n",
      "\n",
      "print \"After drop and clean, our data set has \",len(income_df),\" elements\""
     ],
     "language": "python",
     "metadata": {},
     "outputs": [
      {
       "output_type": "stream",
       "stream": "stdout",
       "text": [
        "After drop and clean, our data set has  194716  elements\n"
       ]
      }
     ],
     "prompt_number": 8
    },
    {
     "cell_type": "heading",
     "level": 3,
     "metadata": {},
     "source": [
      "MISE EN PLACE DES ALGOS"
     ]
    },
    {
     "cell_type": "markdown",
     "metadata": {},
     "source": [
      "mise en place de la partie training et de la partie test de notre data set"
     ]
    },
    {
     "cell_type": "code",
     "collapsed": false,
     "input": [
      "#On r\u00e9cupere toutes les features restant sauf notre class\n",
      "collist = [x for x in income_df.columns if x not in ('Income')]\n",
      "\n",
      "X = income_df[collist].values\n",
      "y = income_df[\"Income\"].values\n",
      "\n",
      "print \"Feature space holds %d observations and %d features\" % X.shape\n",
      "print \"Unique target labels:\", np.unique(y)\n",
      "\n",
      "Xr, Xt, yr, yt = train_test_split(X, y, train_size=119716, test_size=75000, random_state=42) #119716 ; 75000\n"
     ],
     "language": "python",
     "metadata": {},
     "outputs": [
      {
       "output_type": "stream",
       "stream": "stdout",
       "text": [
        "Feature space holds 194716 observations and 19 features\n",
        "Unique target labels: [0 1]\n"
       ]
      }
     ],
     "prompt_number": 9
    },
    {
     "cell_type": "heading",
     "level": 3,
     "metadata": {},
     "source": [
      "Algos de Regression"
     ]
    },
    {
     "cell_type": "heading",
     "level": 5,
     "metadata": {},
     "source": [
      "R\u00e9gression lin\u00e9raire"
     ]
    },
    {
     "cell_type": "code",
     "collapsed": false,
     "input": [
      "LR = LinearRegression(fit_intercept=True)\n",
      "\n",
      "libLR_start=time.time()\n",
      "LR.fit(Xr, yr)\n",
      "libLR_train_end=time.time()\n",
      "print \"Apprentissage fini en : \",str(libLR_train_end-libLR_start)+\" s\"\n",
      "\n",
      "y_pred_LR = np.array(LR.predict(Xt))\n",
      "libLR_test_end=time.time()\n",
      "\n",
      "\n",
      "print \"Erreur quadratique moyenne : \", mean_squared_error(yt, y_pred_LR)\n",
      "#print \"Score : \", LR.score(y_pred_LR[:-1], yt[:-1])\n",
      "\n",
      "print \"Test r\u00e9alis\u00e9 en : \",str(libLR_test_end-libLR_train_end)+\" s\"\n",
      "\n",
      "pylab.hist(yt, bins=5)\n",
      "pylab.hist(y_pred_LR, bins=5)\n",
      "pylab.show()"
     ],
     "language": "python",
     "metadata": {},
     "outputs": [
      {
       "output_type": "stream",
       "stream": "stdout",
       "text": [
        " Apprentissage fini en :  0.110417127609 s\n",
        "Erreur quadratique moyenne :  0.0497431470005\n",
        "Test r\u00e9alis\u00e9 en :  0.00320196151733 s\n"
       ]
      },
      {
       "metadata": {},
       "output_type": "display_data",
       "png": "[encoded data removed]",
       "text": [
        "<matplotlib.figure.Figure at 0x7fbc6af79bd0>"
       ]
      }
     ],
     "prompt_number": 19
    },
    {
     "cell_type": "markdown",
     "metadata": {},
     "source": []
    },
    {
     "cell_type": "markdown",
     "metadata": {},
     "source": []
    },
    {
     "cell_type": "code",
     "collapsed": false,
     "input": [
      "def accuracy(y_true,y_pred):\n",
      "    # NumPy interpretes True and False as 1. and 0.\n",
      "    return np.mean(y_true == y_pred)\n"
     ],
     "language": "python",
     "metadata": {},
     "outputs": [],
     "prompt_number": 20
    },
    {
     "cell_type": "heading",
     "level": 5,
     "metadata": {},
     "source": [
      "Random Forest"
     ]
    },
    {
     "cell_type": "code",
     "collapsed": false,
     "input": [
      "\n",
      "# Train random forest\n",
      "reg = RandomForestRegressor(n_estimators=500, oob_score=True)\n",
      "libRFR_start=time.time()\n",
      "reg.fit(Xr, yr)\n",
      "libRFR_train_end=time.time()\n",
      "print \"Trainig finish in : \",str(libRFR_train_end-libRFR_start)+\" s\"\n",
      "\n",
      "ypred_RF = reg.predict(Xt)\n",
      "libRFR_test_end=time.time()\n",
      "print mean_squared_error(yt, ypred_RF), reg.oob_score_\n",
      "\n",
      "print \"Time Required for testing: \",str(libRFR_test_end-libRFR_train_end)+\" s\"\n"
     ],
     "language": "python",
     "metadata": {},
     "outputs": [
      {
       "output_type": "stream",
       "stream": "stdout",
       "text": [
        "Trainig finish in :  299.447413921 s\n",
        "0.0416953454669"
       ]
      },
      {
       "output_type": "stream",
       "stream": "stdout",
       "text": [
        " 0.289033048657\n",
        "Time Required for testing:  4.05608797073 s\n"
       ]
      }
     ],
     "prompt_number": 21
    },
    {
     "cell_type": "code",
     "collapsed": false,
     "input": [
      "pylab.hist(yt, bins=5)\n",
      "pylab.hist(ypred_RF, bins=5)\n",
      "pylab.show()"
     ],
     "language": "python",
     "metadata": {},
     "outputs": [
      {
       "metadata": {},
       "output_type": "display_data",
       "png": "[encoded data removed]",
       "text": [
        "<matplotlib.figure.Figure at 0x7f6750889610>"
       ]
      }
     ],
     "prompt_number": 59
    },
    {
     "cell_type": "code",
     "collapsed": false,
     "input": [
      "oob_scores = []\n",
      "mses = []\n",
      "num_feats = range(1, 19)\n",
      "for num_feat in num_feats:\n",
      "    reg = RandomForestRegressor(n_estimators=500, max_features=num_feat, oob_score=True)\n",
      "    reg.fit(Xr, yr)\n",
      "    ypred = reg.predict(Xt)\n",
      "    mses.append(mean_squared_error(yt, ypred))\n",
      "    oob_scores.append(reg.oob_score_)\n",
      "plt.plot(num_feats, mses, color='b', linewidth=2.5)\n",
      "plt.plot(num_feats, oob_scores, color='r', linewidth=2.5)\n",
      "plt.xlabel(\"features\")\n",
      "plt.ylabel(\"MSE (blue); OOB (red)\")"
     ],
     "language": "python",
     "metadata": {},
     "outputs": [
      {
       "metadata": {},
       "output_type": "pyout",
       "prompt_number": 22,
       "text": [
        "<matplotlib.text.Text at 0x7fbc692aad50>"
       ]
      },
      {
       "metadata": {},
       "output_type": "display_data",
       "png": "[encoded data removed]",
       "text": [
        "<matplotlib.figure.Figure at 0x7fbc69302c50>"
       ]
      }
     ],
     "prompt_number": 22
    },
    {
     "cell_type": "markdown",
     "metadata": {},
     "source": []
    },
    {
     "cell_type": "markdown",
     "metadata": {},
     "source": [
      "\n"
     ]
    },
    {
     "cell_type": "heading",
     "level": 5,
     "metadata": {},
     "source": [
      "SVM\n"
     ]
    },
    {
     "cell_type": "code",
     "collapsed": false,
     "input": [
      "\n",
      "svR = svm.SVR()#C(kernel='linear')\n",
      "\n",
      "libsvr_start=time.time()\n",
      "svR.fit(Xr,yr)\n",
      "libsvr_train_end=time.time()\n",
      "print \"Apprentissage fini en : \",str(libsvr_train_end-libsvr_start)+\" s\"\n",
      "\n",
      "ypred_SVR = svR.predict(Xt)\n",
      "libsvr_test_end=time.time()\n",
      "print \"Erreur quadratique moyenne : \",mean_squared_error(yt, ypred_SVR)\n",
      "print \"ref.oob_score : \", reg.oob_score_\n",
      "\n",
      "print \"Test r\u00e9alis\u00e9 en : \",str(libsvr_test_end-libsvr_train_end)+\" s\""
     ],
     "language": "python",
     "metadata": {},
     "outputs": [
      {
       "output_type": "stream",
       "stream": "stdout",
       "text": [
        "Apprentissage fini en :  5135.11471605 s\n",
        "Erreur quadratique moyenne : "
       ]
      },
      {
       "output_type": "stream",
       "stream": "stdout",
       "text": [
        " 0.0636698344042\n",
        "ref.oob_score :  0.292164042551\n",
        "Test r\u00e9alis\u00e9 en :  363.329332113 s\n"
       ]
      }
     ],
     "prompt_number": 23
    },
    {
     "cell_type": "heading",
     "level": 2,
     "metadata": {},
     "source": [
      "Algo de Classification"
     ]
    },
    {
     "cell_type": "heading",
     "level": 5,
     "metadata": {},
     "source": [
      "K-NN"
     ]
    },
    {
     "cell_type": "code",
     "collapsed": false,
     "input": [
      "\n",
      "knn = neighbors.KNeighborsClassifier(n_neighbors=5)\n",
      "libKNN_start=time.time()\n",
      "knn.fit(Xr, yr)\n",
      "libKNN_train_end=time.time()\n",
      "print \"Apprentissage fini en : \",str(libKNN_train_end-libKNN_start)+\" s\"\n",
      "\n",
      "ypred_KNN = knn.predict(Xt)\n",
      "libKNN_test_end=time.time()\n",
      "print (confusion_matrix(yt, ypred_KNN), accuracy_score(yt, ypred_KNN))\n",
      "\n",
      "print \"Test r\u00e9alis\u00e9 en : \",str(libKNN_test_end-libKNN_train_end)+\" s\"\n",
      "\n"
     ],
     "language": "python",
     "metadata": {},
     "outputs": [
      {
       "output_type": "stream",
       "stream": "stdout",
       "text": [
        "Apprentissage fini en :  0.564404010773 s\n",
        "(array([[  837,  3896],\n",
        "       [ 1161, 69106]]), 0.93257333333333337)"
       ]
      },
      {
       "output_type": "stream",
       "stream": "stdout",
       "text": [
        "\n",
        "Test r\u00e9alis\u00e9 en :  6.01049900055 s\n"
       ]
      }
     ],
     "prompt_number": 13
    },
    {
     "cell_type": "heading",
     "level": 5,
     "metadata": {},
     "source": [
      "SVM"
     ]
    },
    {
     "cell_type": "code",
     "collapsed": false,
     "input": [
      "clf = svm.SVC(kernel='linear')\n",
      "\n",
      "libsvm_start=time.time()\n",
      "clf.fit(Xr,yr)\n",
      "libsvm_train_end=time.time()\n",
      "print \"Apprentissage fini en : \",str(libsvm_train_end-libsvm_start)+\" s\"\n",
      "\n",
      "ypred_SVM = clf.predict(Xt)\n",
      "libsvm_test_end=time.time()\n",
      "print (confusion_matrix(yt, ypred_SVM), accuracy_score(yt, ypred_SVM))\n",
      "\n",
      "print \"Test r\u00e9alis\u00e9 en : \",str(libsvm_test_end-libsvm_train_end)+\" s\""
     ],
     "language": "python",
     "metadata": {},
     "outputs": [
      {
       "output_type": "stream",
       "stream": "stdout",
       "text": [
        "Apprentissage fini en :  2883.02369404 s\n",
        "(array([[  947,  3786],\n",
        "       [  805, 69462]]), 0.93878666666666666)"
       ]
      },
      {
       "output_type": "stream",
       "stream": "stdout",
       "text": [
        "\n",
        "Test r\u00e9alis\u00e9 en :  16.6142549515 s\n"
       ]
      }
     ],
     "prompt_number": 25
    },
    {
     "cell_type": "heading",
     "level": 5,
     "metadata": {},
     "source": [
      "Arbre de d\u00e9cision"
     ]
    },
    {
     "cell_type": "code",
     "collapsed": false,
     "input": [
      "clf = DecisionTreeClassifier()\n",
      "libDTC_start=time.time()\n",
      "clf.fit(Xr, yr)\n",
      "libDTC_train_end=time.time()\n",
      "print \"Apprentissage fini en : \",str(libDTC_train_end-libDTC_start)+\" s\"\n",
      "ypred_DTC = clf.predict(Xt)\n",
      "libDTC_test_end=time.time()\n",
      "print (confusion_matrix(yt, ypred_DTC), accuracy_score(yt, ypred_DTC))\n",
      "\n",
      "print \"Time Required for testing : \",str(libDTC_test_end-libDTC_train_end)+\" s\"\n"
     ],
     "language": "python",
     "metadata": {},
     "outputs": [
      {
       "output_type": "stream",
       "stream": "stdout",
       "text": [
        "Apprentissage fini en :  0.912221908569 s\n",
        "(array([[ 1879,  2854],\n",
        "       [ 3309, 66958]]), 0.91782666666666668)"
       ]
      },
      {
       "output_type": "stream",
       "stream": "stdout",
       "text": [
        "\n",
        "Time Required for testing :  0.0120620727539 s\n"
       ]
      }
     ],
     "prompt_number": 26
    },
    {
     "cell_type": "code",
     "collapsed": false,
     "input": [
      "kfold = KFold(Xr.shape[0], n_folds=10)\n",
      "accs = []\n",
      "max_depths = range(1, 20)\n",
      "for max_depth in max_depths:\n",
      "    k_accs = []\n",
      "    for train, test in kfold:\n",
      "        Xtrain, Xtest, ytrain, ytest = Xr[train], Xr[test], yr[train], yr[test]\n",
      "        clf = DecisionTreeClassifier(max_depth=max_depth)\n",
      "        clf.fit(Xtrain, ytrain)\n",
      "        ypred = clf.predict(Xtest)\n",
      "        k_accs.append(accuracy_score(ytest, ypred))\n",
      "    accs.append(np.mean(k_accs))\n",
      "# plot the accuracies as a function of max_depth\n",
      "plt.plot(max_depths, accs, linewidth=2.5)"
     ],
     "language": "python",
     "metadata": {},
     "outputs": [
      {
       "metadata": {},
       "output_type": "pyout",
       "prompt_number": 27,
       "text": [
        "[<matplotlib.lines.Line2D at 0x7fbc69173390>]"
       ]
      },
      {
       "metadata": {},
       "output_type": "display_data",
       "png": "[encoded data removed]",
       "text": [
        "<matplotlib.figure.Figure at 0x7fbc692aa350>"
       ]
      }
     ],
     "prompt_number": 27
    },
    {
     "cell_type": "code",
     "collapsed": false,
     "input": [
      "clf = DecisionTreeClassifier(max_depth=7)\n",
      "libDTC_start=time.time()\n",
      "clf.fit(Xr, yr)\n",
      "libDTC_train_end=time.time()\n",
      "print \"Trainig finish in : \",str(libDTC_train_end-libDTC_start)+\" s\"\n",
      "ypred_DTC = clf.predict(Xt)\n",
      "libDTC_test_end=time.time()\n",
      "print (confusion_matrix(yt, ypred_DTC), accuracy_score(yt, ypred_DTC))\n",
      "\n",
      "print \"Time Required for testing: \",str(libDTC_test_end-libDTC_train_end)+\" s\""
     ],
     "language": "python",
     "metadata": {},
     "outputs": [
      {
       "output_type": "stream",
       "stream": "stdout",
       "text": [
        "Trainig finish in :  0.647264003754 s\n",
        "(array([[ 1434,  3299],\n",
        "       [  880, 69387]]), 0.94428000000000001)"
       ]
      },
      {
       "output_type": "stream",
       "stream": "stdout",
       "text": [
        "\n",
        "Time Required for testing:  0.00719809532166 s\n"
       ]
      }
     ],
     "prompt_number": 14
    },
    {
     "cell_type": "code",
     "collapsed": false,
     "input": [],
     "language": "python",
     "metadata": {},
     "outputs": []
    }
   ],
   "metadata": {}
  }
 ]
}